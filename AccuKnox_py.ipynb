{
  "cells": [
    {
      "cell_type": "markdown",
      "metadata": {
        "id": "view-in-github",
        "colab_type": "text"
      },
      "source": [
        "<a href=\"https://colab.research.google.com/github/AjayBandari1/Django-Signals/blob/main/AccuKnox_py.ipynb\" target=\"_parent\"><img src=\"https://colab.research.google.com/assets/colab-badge.svg\" alt=\"Open In Colab\"/></a>"
      ]
    },
    {
      "cell_type": "code",
      "execution_count": 1,
      "metadata": {
        "id": "u5LEqnqHfYjB",
        "colab": {
          "base_uri": "https://localhost:8080/"
        },
        "outputId": "b3176f39-ae4b-4602-f300-53221c08d750"
      },
      "outputs": [
        {
          "output_type": "stream",
          "name": "stdout",
          "text": [
            "Collecting django\n",
            "  Downloading Django-5.1.7-py3-none-any.whl.metadata (4.1 kB)\n",
            "Collecting asgiref<4,>=3.8.1 (from django)\n",
            "  Downloading asgiref-3.8.1-py3-none-any.whl.metadata (9.3 kB)\n",
            "Requirement already satisfied: sqlparse>=0.3.1 in /usr/local/lib/python3.11/dist-packages (from django) (0.5.3)\n",
            "Downloading Django-5.1.7-py3-none-any.whl (8.3 MB)\n",
            "\u001b[2K   \u001b[90m━━━━━━━━━━━━━━━━━━━━━━━━━━━━━━━━━━━━━━━━\u001b[0m \u001b[32m8.3/8.3 MB\u001b[0m \u001b[31m50.1 MB/s\u001b[0m eta \u001b[36m0:00:00\u001b[0m\n",
            "\u001b[?25hDownloading asgiref-3.8.1-py3-none-any.whl (23 kB)\n",
            "Installing collected packages: asgiref, django\n",
            "Successfully installed asgiref-3.8.1 django-5.1.7\n"
          ]
        }
      ],
      "source": [
        "!pip install django"
      ]
    },
    {
      "cell_type": "code",
      "execution_count": 2,
      "metadata": {
        "id": "HSAojSnDfYma"
      },
      "outputs": [],
      "source": [
        "import os\n",
        "\n",
        "if not os.path.exists(\"/content/myproject\"):\n",
        "    !django-admin startproject myproject\n",
        "else:\n",
        "    print(\"Project already exists, skipping creation.\")\n"
      ]
    },
    {
      "cell_type": "code",
      "source": [
        "# Add the project to the Python path\n",
        "import sys\n",
        "sys.path.append(\"/content/myproject\")"
      ],
      "metadata": {
        "id": "i8SxqXGRJ56c"
      },
      "execution_count": 3,
      "outputs": []
    },
    {
      "cell_type": "code",
      "source": [
        "# Fix indentation in settings.py to avoid leading spaces/tabs\n",
        "with open(\"/content/myproject/myproject/settings.py\", \"r\") as file:\n",
        "    lines = file.readlines()\n",
        "\n",
        "with open(\"/content/myproject/myproject/settings.py\", \"w\") as file:\n",
        "    for line in lines:\n",
        "        file.write(line.lstrip())  # Removes leading spaces/tabs\n",
        "\n",
        "print(\"✅ Fixed indentation in settings.py\")"
      ],
      "metadata": {
        "id": "tjVT5V2lJ_ZN",
        "colab": {
          "base_uri": "https://localhost:8080/"
        },
        "outputId": "ac125275-58d9-4532-b22d-2cd70d282473"
      },
      "execution_count": 4,
      "outputs": [
        {
          "output_type": "stream",
          "name": "stdout",
          "text": [
            "✅ Fixed indentation in settings.py\n"
          ]
        }
      ]
    },
    {
      "cell_type": "code",
      "source": [
        "# Run migrations to set up the database\n",
        "!python /content/myproject/manage.py migrate\n",
        "\n",
        "# Check the Django setup for errors\n",
        "!python /content/myproject/manage.py check"
      ],
      "metadata": {
        "colab": {
          "base_uri": "https://localhost:8080/"
        },
        "id": "31WhtYxTLCov",
        "outputId": "577ccd83-8ba8-4c3c-e994-efc8e1a6575d"
      },
      "execution_count": 5,
      "outputs": [
        {
          "output_type": "stream",
          "name": "stdout",
          "text": [
            "\u001b[36;1mOperations to perform:\u001b[0m\n",
            "\u001b[1m  Apply all migrations: \u001b[0madmin, auth, contenttypes, sessions\n",
            "\u001b[36;1mRunning migrations:\u001b[0m\n",
            "  Applying contenttypes.0001_initial...\u001b[32;1m OK\u001b[0m\n",
            "  Applying auth.0001_initial...\u001b[32;1m OK\u001b[0m\n",
            "  Applying admin.0001_initial...\u001b[32;1m OK\u001b[0m\n",
            "  Applying admin.0002_logentry_remove_auto_add...\u001b[32;1m OK\u001b[0m\n",
            "  Applying admin.0003_logentry_add_action_flag_choices...\u001b[32;1m OK\u001b[0m\n",
            "  Applying contenttypes.0002_remove_content_type_name...\u001b[32;1m OK\u001b[0m\n",
            "  Applying auth.0002_alter_permission_name_max_length...\u001b[32;1m OK\u001b[0m\n",
            "  Applying auth.0003_alter_user_email_max_length...\u001b[32;1m OK\u001b[0m\n",
            "  Applying auth.0004_alter_user_username_opts...\u001b[32;1m OK\u001b[0m\n",
            "  Applying auth.0005_alter_user_last_login_null...\u001b[32;1m OK\u001b[0m\n",
            "  Applying auth.0006_require_contenttypes_0002...\u001b[32;1m OK\u001b[0m\n",
            "  Applying auth.0007_alter_validators_add_error_messages...\u001b[32;1m OK\u001b[0m\n",
            "  Applying auth.0008_alter_user_username_max_length...\u001b[32;1m OK\u001b[0m\n",
            "  Applying auth.0009_alter_user_last_name_max_length...\u001b[32;1m OK\u001b[0m\n",
            "  Applying auth.0010_alter_group_name_max_length...\u001b[32;1m OK\u001b[0m\n",
            "  Applying auth.0011_update_proxy_permissions...\u001b[32;1m OK\u001b[0m\n",
            "  Applying auth.0012_alter_user_first_name_max_length...\u001b[32;1m OK\u001b[0m\n",
            "  Applying sessions.0001_initial...\u001b[32;1m OK\u001b[0m\n",
            "System check identified no issues (0 silenced).\n"
          ]
        }
      ]
    },
    {
      "cell_type": "markdown",
      "source": [
        "Question 1: By default are django signals executed synchronously or asynchronously? Please support your answer with a code snippet that conclusively proves your stance. The code does not need to be elegant and production ready, we just need to understand your logic.\n",
        "\n",
        "Solution: By default, Django signals are executed synchronously. This means they run immediately when the signal is triggered and do not run in a separate thread or process.\n"
      ],
      "metadata": {
        "id": "Dyqdghmbf0YP"
      }
    },
    {
      "cell_type": "code",
      "source": [
        "\n",
        "# Import necessary libraries\n",
        "import os\n",
        "import django\n",
        "import time\n",
        "import threading\n",
        "\n",
        "# Set the Django project settings\n",
        "os.environ.setdefault(\"DJANGO_SETTINGS_MODULE\", \"myproject.settings\")\n",
        "\n",
        "#  Fix for running Django ORM in an async environment (needed in Google Colab)\n",
        "os.environ[\"DJANGO_ALLOW_ASYNC_UNSAFE\"] = \"true\"\n",
        "\n",
        "#  Initialize Django (must be done before importing models)\n",
        "django.setup()\n",
        "\n",
        "#  Now, import Django ORM models after setup\n",
        "from django.contrib.auth.models import User\n",
        "\n",
        "#  Delete user first (to avoid duplication errors)\n",
        "User.objects.filter(username=\"testuser_sync\").delete()\n",
        "\n",
        "#  Measure user creation time\n",
        "start_time = time.time()\n",
        "print(f\"🚀 Creating user started at {start_time} in thread: {threading.current_thread().name}\")\n",
        "\n",
        "#  User creation\n",
        "user = User.objects.create(username=\"testuser_sync\")\n",
        "\n",
        "end_time = time.time()\n",
        "print(f\"✅ Creating user finished at {end_time} in thread: {threading.current_thread().name}\")\n",
        "print(f\"⏱️ Total Execution Time: {end_time - start_time:.4f} seconds\")\n"
      ],
      "metadata": {
        "colab": {
          "base_uri": "https://localhost:8080/"
        },
        "id": "vipbwE2-dvJl",
        "outputId": "94016676-0f38-46a8-8ea5-c4996cd3764f"
      },
      "execution_count": 13,
      "outputs": [
        {
          "output_type": "stream",
          "name": "stdout",
          "text": [
            "🚀 Creating user started at 1743227722.781897 in thread: MainThread\n",
            "Signal running in thread: MainThread\n",
            "✅ Signal executed for testuser_sync in thread: MainThread\n",
            "✅ Signal executed AFTER successful transaction for testuser_sync\n",
            "✅ Creating user finished at 1743227722.7925098 in thread: MainThread\n",
            "⏱️ Total Execution Time: 0.0106 seconds\n"
          ]
        }
      ]
    },
    {
      "cell_type": "markdown",
      "source": [
        "Question 2: Do django signals run in the same thread as the caller? Please support your answer with a code snippet that conclusively proves your stance. The code does not need to be elegant and production ready, we just need to understand your logic.\n",
        "\n",
        "Solution: Yes, Django signals run in the same thread as the caller. When a signal is emitted, it executes in the same thread that triggered the signal."
      ],
      "metadata": {
        "id": "zIOnU_LqgCmu"
      }
    },
    {
      "cell_type": "code",
      "source": [
        "# Create a new user and handle the signal asynchronously\n",
        "import os\n",
        "import django\n",
        "import threading\n",
        "from django.db.models.signals import post_save\n",
        "from django.dispatch import receiver\n",
        "from django.contrib.auth.models import User\n",
        "\n",
        "# Fix for async environment\n",
        "os.environ[\"DJANGO_ALLOW_ASYNC_UNSAFE\"] = \"true\"\n",
        "\n",
        "# Setup Django\n",
        "os.environ.setdefault(\"DJANGO_SETTINGS_MODULE\", \"myproject.settings\")\n",
        "django.setup()\n",
        "\n",
        "# Ensure user does not already exist\n",
        "User.objects.filter(username=\"testuser\").delete()\n",
        "\n",
        "# Define a signal to check the execution thread\n",
        "@receiver(post_save, sender=User)\n",
        "def signal_handler(sender, instance, **kwargs):\n",
        "    print(f\"Signal running in thread: {threading.current_thread().name}\")\n",
        "\n",
        "print(f\"Main thread: {threading.current_thread().name}\")\n",
        "\n",
        "# Create a new user\n",
        "user = User.objects.create(username=\"testuser\")\n"
      ],
      "metadata": {
        "id": "QEuIjfBPJgQN",
        "colab": {
          "base_uri": "https://localhost:8080/"
        },
        "outputId": "435f1125-6501-4d0f-b4bd-19b17503f789"
      },
      "execution_count": 14,
      "outputs": [
        {
          "output_type": "stream",
          "name": "stdout",
          "text": [
            "Main thread: MainThread\n",
            "Signal running in thread: MainThread\n",
            "✅ Signal executed for testuser in thread: MainThread\n",
            "✅ Signal executed AFTER successful transaction for testuser\n",
            "Signal running in thread: MainThread\n"
          ]
        }
      ]
    },
    {
      "cell_type": "markdown",
      "source": [
        "Question 3: By default do django signals run in the same database transaction as the caller? Please support your answer with a code snippet that conclusively proves your stance. The code does not need to be elegant and production ready, we just need to understand your logic.\n",
        "\n",
        "Solution : Yes, by default, Django signals run in the same database transaction as the caller. However, if an exception occurs in the caller's transaction, any database changes made in the signal will also be rolled back."
      ],
      "metadata": {
        "id": "3o-5BOsPgSXT"
      }
    },
    {
      "cell_type": "code",
      "source": [
        "# Wrap user creation in a transaction and raise an exception to test rollback\n",
        "import os\n",
        "import django\n",
        "import threading\n",
        "from django.db import transaction\n",
        "from django.db.models.signals import post_save\n",
        "from django.dispatch import receiver\n",
        "from django.contrib.auth.models import User\n",
        "\n",
        "# Fix for async environment\n",
        "os.environ[\"DJANGO_ALLOW_ASYNC_UNSAFE\"] = \"true\"\n",
        "\n",
        "# Setup Django\n",
        "os.environ.setdefault(\"DJANGO_SETTINGS_MODULE\", \"myproject.settings\")\n",
        "django.setup()\n",
        "\n",
        "# Ensure user does not already exist\n",
        "User.objects.filter(username=\"testuser_txn\").delete()\n",
        "\n",
        "# Define a signal to check if it runs within the transaction\n",
        "@receiver(post_save, sender=User)\n",
        "def signal_handler(sender, instance, **kwargs):\n",
        "    print(f\"✅ Signal executed for {instance.username} in thread: {threading.current_thread().name}\")\n",
        "\n",
        "    # Ensure signal runs only after a successful commit\n",
        "    transaction.on_commit(lambda: print(f\"✅ Signal executed AFTER successful transaction for {instance.username}\"))\n",
        "\n",
        "# Wrap user creation in a transaction and raise an exception\n",
        "try:\n",
        "    with transaction.atomic():\n",
        "        print(f\"🚀 Creating user in thread: {threading.current_thread().name}\")\n",
        "        user = User.objects.create(username=\"testuser_txn\")\n",
        "        print(f\"⚠️ Raising exception to test rollback...\")\n",
        "        raise Exception(\"Simulated error after user creation!\")\n",
        "except Exception as e:\n",
        "    print(f\"❌ Exception caught: {e}\")\n",
        "\n",
        "# Check if user exists (It should NOT exist if rollback worked)\n",
        "user_exists = User.objects.filter(username=\"testuser_txn\").exists()\n",
        "print(f\"🔎 User exists after rollback? {'Yes' if user_exists else 'No'}\")\n"
      ],
      "metadata": {
        "id": "f5fs0vZ5JZuk",
        "colab": {
          "base_uri": "https://localhost:8080/"
        },
        "outputId": "d8c43942-1ab4-425e-a6ac-d4d9fb852422"
      },
      "execution_count": 10,
      "outputs": [
        {
          "output_type": "stream",
          "name": "stdout",
          "text": [
            "🚀 Creating user in thread: MainThread\n",
            "Signal running in thread: MainThread\n",
            "✅ Signal executed for testuser_txn in thread: MainThread\n",
            "⚠️ Raising exception to test rollback...\n",
            "❌ Exception caught: Simulated error after user creation!\n",
            "🔎 User exists after rollback? No\n"
          ]
        }
      ]
    },
    {
      "cell_type": "markdown",
      "source": [
        "4. Description: You are tasked with creating a Rectangle class with the following requirements:\n",
        "\n",
        "An instance of the Rectangle class requires length:int and width:int to be initialized.\n",
        "We can iterate over an instance of the Rectangle class\n",
        "When an instance of the Rectangle class is iterated over, we first get its length in the format: {'length': <VALUE_OF_LENGTH>} followed by the width {width: <VALUE_OF_WIDTH>}\n"
      ],
      "metadata": {
        "id": "UU6FRJeXgh1k"
      }
    },
    {
      "cell_type": "code",
      "source": [
        "class Rectangle:\n",
        "    def __init__(self, length: int, width: int):\n",
        "        self.length = length\n",
        "        self.width = width\n",
        "\n",
        "    def __iter__(self):\n",
        "        yield {'length': self.length}\n",
        "        yield {'width': self.width}\n",
        "\n",
        "# Example Usage\n",
        "rect = Rectangle(10, 5)\n",
        "for attribute in rect:\n",
        "    print(attribute)"
      ],
      "metadata": {
        "colab": {
          "base_uri": "https://localhost:8080/"
        },
        "id": "XVkFfmutKqcT",
        "outputId": "356fb10f-bd65-42d7-9ce6-f60905cae363"
      },
      "execution_count": 11,
      "outputs": [
        {
          "output_type": "stream",
          "name": "stdout",
          "text": [
            "{'length': 10}\n",
            "{'width': 5}\n"
          ]
        }
      ]
    }
  ],
  "metadata": {
    "colab": {
      "provenance": [],
      "mount_file_id": "1-iAjXcjCdCXItT0qR0o6DZm1FJoJlB26",
      "authorship_tag": "ABX9TyO3uYy0NON7GpQyT8Lzs7P8",
      "include_colab_link": true
    },
    "kernelspec": {
      "display_name": "Python 3",
      "name": "python3"
    },
    "language_info": {
      "name": "python"
    }
  },
  "nbformat": 4,
  "nbformat_minor": 0
}